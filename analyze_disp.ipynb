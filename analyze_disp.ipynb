{
 "cells": [
  {
   "cell_type": "markdown",
   "metadata": {},
   "source": [
    "# Visualize dispersion curve output"
   ]
  },
  {
   "cell_type": "code",
   "execution_count": null,
   "metadata": {},
   "outputs": [],
   "source": []
  },
  {
   "cell_type": "markdown",
   "metadata": {},
   "source": [
    "# Output for Surface wave ATT"
   ]
  },
  {
   "cell_type": "code",
   "execution_count": null,
   "metadata": {},
   "outputs": [],
   "source": [
    "import re\n",
    "import numpy as np\n",
    "from glob import glob\n",
    "\n",
    "# Test Extract station name from file name\n",
    "name = 'CF.HD1.10_10_HD1.10_22.dat.disp'\n",
    "tmp = re.split(r'\\.|_', name)\n",
    "sta1, sta2 = tmp[2] + '_' + tmp[3], tmp[5] + '_' + tmp[6]\n",
    "print(sta1, sta2)"
   ]
  },
  {
   "cell_type": "code",
   "execution_count": null,
   "metadata": {},
   "outputs": [],
   "source": [
    "fnames = glob(\"/home/shijie/data/huidong/DISP_2_1/disps/CF*.disp\")\n",
    "disp0 = np.loadtxt(fnames[0])\n",
    "periods = disp0[:,0]\n",
    "disps = np.zeros([len(fnames), len(periods)])\n",
    "for i, dispname in enumerate(fnames):\n",
    "    data = np.loadtxt(dispname)\n",
    "    disps[i, :] = data[:,1]"
   ]
  }
 ],
 "metadata": {
  "kernelspec": {
   "display_name": "base",
   "language": "python",
   "name": "python3"
  },
  "language_info": {
   "codemirror_mode": {
    "name": "ipython",
    "version": 3
   },
   "file_extension": ".py",
   "mimetype": "text/x-python",
   "name": "python",
   "nbconvert_exporter": "python",
   "pygments_lexer": "ipython3",
   "version": "3.8.12"
  },
  "orig_nbformat": 4
 },
 "nbformat": 4,
 "nbformat_minor": 2
}
