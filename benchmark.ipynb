{
 "cells": [
  {
   "cell_type": "code",
   "execution_count": 34,
   "metadata": {},
   "outputs": [],
   "source": [
    "import numpy as np\n",
    "from glob import glob\n",
    "from os.path import join, basename, exists"
   ]
  },
  {
   "cell_type": "code",
   "execution_count": 35,
   "metadata": {},
   "outputs": [],
   "source": [
    "pdisp1 = \"/home/shijie/data/hawaii/DISP4/disp2/\"\n",
    "pdisp2 = \"/home/shijie/data/hawaii/DISP4/disp_pycode/\""
   ]
  },
  {
   "cell_type": "code",
   "execution_count": 36,
   "metadata": {},
   "outputs": [],
   "source": [
    "diffs = np.zeros(15)\n",
    "disps = np.zeros(15)"
   ]
  },
  {
   "cell_type": "code",
   "execution_count": 37,
   "metadata": {},
   "outputs": [],
   "source": [
    "count = 0\n",
    "for fdisp1 in glob(join(pdisp1, '*.dat')):\n",
    "    disp1 = np.loadtxt(fdisp1, skiprows=2)\n",
    "    disp1[disp1[:,3]==0,1] = np.nan\n",
    "    name1 = basename(fdisp1)\n",
    "    name2 = name1[8:] + '.disp'\n",
    "    fdisp2 = join(pdisp2, name2)\n",
    "    if exists(fdisp2):\n",
    "        disp2 = np.loadtxt(fdisp2)\n",
    "        diff = np.abs(disp1[:15,1] - disp2[:,1])\n",
    "        diff[np.isnan(diff)] = 0\n",
    "        diffs += diff\n",
    "        disps += disp2[:,1]\n",
    "        count += 1"
   ]
  },
  {
   "cell_type": "code",
   "execution_count": 38,
   "metadata": {},
   "outputs": [
    {
     "data": {
      "text/plain": [
       "array([0.04287315, 0.05443958, 0.05509348, 0.05188983, 0.04187082,\n",
       "       0.03040403, 0.02523942, 0.02041557, 0.02598268, 0.02552367,\n",
       "       0.0228053 , 0.01953569, 0.01869576, 0.01645153, 0.01194111])"
      ]
     },
     "execution_count": 38,
     "metadata": {},
     "output_type": "execute_result"
    }
   ],
   "source": [
    "diffs / disps"
   ]
  },
  {
   "cell_type": "code",
   "execution_count": 39,
   "metadata": {},
   "outputs": [
    {
     "data": {
      "text/plain": [
       "1386"
      ]
     },
     "execution_count": 39,
     "metadata": {},
     "output_type": "execute_result"
    }
   ],
   "source": [
    "count"
   ]
  }
 ],
 "metadata": {
  "kernelspec": {
   "display_name": "base",
   "language": "python",
   "name": "python3"
  },
  "language_info": {
   "codemirror_mode": {
    "name": "ipython",
    "version": 3
   },
   "file_extension": ".py",
   "mimetype": "text/x-python",
   "name": "python",
   "nbconvert_exporter": "python",
   "pygments_lexer": "ipython3",
   "version": "3.8.12"
  },
  "orig_nbformat": 4
 },
 "nbformat": 4,
 "nbformat_minor": 2
}
