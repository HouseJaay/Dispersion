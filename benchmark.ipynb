{
 "cells": [
  {
   "cell_type": "code",
   "execution_count": 17,
   "metadata": {},
   "outputs": [],
   "source": [
    "import numpy as np\n",
    "from glob import glob\n",
    "from os.path import join, basename, exists"
   ]
  },
  {
   "cell_type": "code",
   "execution_count": 18,
   "metadata": {},
   "outputs": [],
   "source": [
    "pdisp1 = \"/home/shijie/data/hawaii/DISP4/disp2/\"\n",
    "pdisp2 = \"/home/shijie/data/hawaii/DISP4/disp_pycode_mpi/disps/\""
   ]
  },
  {
   "cell_type": "code",
   "execution_count": 34,
   "metadata": {},
   "outputs": [],
   "source": [
    "diffs = np.zeros([len(glob(join(pdisp1, '*.dat'))),15]) * np.nan\n",
    "disps = np.zeros([len(glob(join(pdisp1, '*.dat'))),15]) * np.nan"
   ]
  },
  {
   "cell_type": "code",
   "execution_count": 35,
   "metadata": {},
   "outputs": [],
   "source": [
    "count = 0\n",
    "for i,fdisp1 in enumerate(glob(join(pdisp1, '*.dat'))):\n",
    "    disp1 = np.loadtxt(fdisp1, skiprows=2)\n",
    "    disp1[disp1[:,3]==0,1] = np.nan\n",
    "    name1 = basename(fdisp1)\n",
    "    name2 = name1[8:] + '.disp'\n",
    "    fdisp2 = join(pdisp2, name2)\n",
    "    if exists(fdisp2):\n",
    "        disp2 = np.loadtxt(fdisp2)\n",
    "        # disp2[disp2[:,1] == 0, 1] = np.nan\n",
    "        diff = disp1[:15,1] - disp2[:,1]\n",
    "        # diff[np.isnan(diff)] = 0\n",
    "        diffs[i, :] = diff\n",
    "        disps[i, :] = disp2[:,1]\n",
    "        count += 1"
   ]
  },
  {
   "cell_type": "code",
   "execution_count": 38,
   "metadata": {},
   "outputs": [
    {
     "data": {
      "text/plain": [
       "(array([  2.,   6.,  18.,  21.,   6.,   0.,   1., 199., 799.,   4.]),\n",
       " array([-1.01158897, -0.89067951, -0.76977006, -0.6488606 , -0.52795115,\n",
       "        -0.40704169, -0.28613223, -0.16522278, -0.04431332,  0.07659614,\n",
       "         0.19750559]),\n",
       " <BarContainer object of 10 artists>)"
      ]
     },
     "execution_count": 38,
     "metadata": {},
     "output_type": "execute_result"
    },
    {
     "data": {
      "image/png": "[encoded data removed]",
      "text/plain": [
       "<Figure size 640x480 with 1 Axes>"
      ]
     },
     "metadata": {},
     "output_type": "display_data"
    }
   ],
   "source": [
    "import matplotlib.pyplot as plt\n",
    "plt.hist(diffs[:,-5])"
   ]
  },
  {
   "cell_type": "code",
   "execution_count": 37,
   "metadata": {},
   "outputs": [
    {
     "data": {
      "text/plain": [
       "array([0.14561836, 0.1034823 , 0.06825822, 0.0403493 , 0.01903909,\n",
       "       0.01703822, 0.01595655, 0.01421802, 0.01559436, 0.01784082,\n",
       "       0.01847899, 0.01635014, 0.01491307, 0.02002824, 0.02321918])"
      ]
     },
     "execution_count": 37,
     "metadata": {},
     "output_type": "execute_result"
    }
   ],
   "source": [
    "np.nanmean(np.abs(diffs), axis=0) / np.nanmean(disps, axis=0)"
   ]
  },
  {
   "cell_type": "code",
   "execution_count": 5,
   "metadata": {},
   "outputs": [
    {
     "data": {
      "text/plain": [
       "array([0.13538698, 0.11037187, 0.09311644, 0.07323455, 0.04946523,\n",
       "       0.03752155, 0.02857809, 0.01963557, 0.01908518, 0.03310956,\n",
       "       0.0266142 , 0.02378787, 0.02307446, 0.02233468, 0.06156108])"
      ]
     },
     "execution_count": 5,
     "metadata": {},
     "output_type": "execute_result"
    }
   ],
   "source": [
    "np.nanmean(diffs, axis=0) / np.nanmean(disps, axis=0)"
   ]
  },
  {
   "cell_type": "code",
   "execution_count": 16,
   "metadata": {},
   "outputs": [
    {
     "data": {
      "text/plain": [
       "array([0.30471056, 0.28505871, 0.26633454, 0.24936363, 0.22813885,\n",
       "       0.20642736, 0.14631481, 0.12535163, 0.11735917, 0.12517311,\n",
       "       0.12678728, 0.08080386, 0.07080964, 0.08014521, 0.09744015])"
      ]
     },
     "execution_count": 16,
     "metadata": {},
     "output_type": "execute_result"
    }
   ],
   "source": [
    "np.nanstd(diffs, axis=0)"
   ]
  },
  {
   "cell_type": "code",
   "execution_count": 15,
   "metadata": {},
   "outputs": [
    {
     "data": {
      "text/plain": [
       "array([ 475,  711,  897, 1023, 1186, 1305, 1366, 1345, 1288, 1183, 1056,\n",
       "        913,  771,  638,  465])"
      ]
     },
     "execution_count": 15,
     "metadata": {},
     "output_type": "execute_result"
    }
   ],
   "source": [
    "np.nansum(~np.isnan(diffs), axis=0)"
   ]
  }
 ],
 "metadata": {
  "kernelspec": {
   "display_name": "base",
   "language": "python",
   "name": "python3"
  },
  "language_info": {
   "codemirror_mode": {
    "name": "ipython",
    "version": 3
   },
   "file_extension": ".py",
   "mimetype": "text/x-python",
   "name": "python",
   "nbconvert_exporter": "python",
   "pygments_lexer": "ipython3",
   "version": "3.8.12"
  },
  "orig_nbformat": 4
 },
 "nbformat": 4,
 "nbformat_minor": 2
}
